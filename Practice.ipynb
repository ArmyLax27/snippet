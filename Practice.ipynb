{
 "cells": [
  {
   "cell_type": "code",
   "execution_count": 1,
   "metadata": {},
   "outputs": [],
   "source": [
    "import pandas as pd\n",
    "import matplotlib.pyplot as plt\n",
    "import numpy as np"
   ]
  },
  {
   "cell_type": "code",
   "execution_count": 2,
   "metadata": {},
   "outputs": [],
   "source": [
    "df = pd.read_csv(r\"H:\\Financials\\Budget Tracker\\Clutter\\Copy of MSP_CostPerWeek (003).csv\", index_col = 0)"
   ]
  },
  {
   "cell_type": "code",
   "execution_count": 3,
   "metadata": {},
   "outputs": [
    {
     "name": "stdout",
     "output_type": "stream",
     "text": [
      "<class 'pandas.core.frame.DataFrame'>\n",
      "Int64Index: 4957 entries, 0 to 0\n",
      "Data columns (total 14 columns):\n",
      "UAS                     4957 non-null object\n",
      "WkActualCost            4957 non-null float64\n",
      "WkRemainingCost         4957 non-null float64\n",
      "WkBaseline0Cost         611 non-null float64\n",
      "Week#                   4957 non-null int64\n",
      "EndWkDate               4957 non-null object\n",
      "WkActualCostCumm        4957 non-null int64\n",
      "WkRemainingCostCumm     4957 non-null int64\n",
      "WkBaseline0CostCumm     4957 non-null int64\n",
      "VolpeTask               4957 non-null object\n",
      "FundsExhaustedWk        1482 non-null object\n",
      "UASCommitment           4957 non-null int64\n",
      "FormAAcceptedAmt        239 non-null float64\n",
      "FormAAcceptedAmtCumm    4957 non-null int64\n",
      "dtypes: float64(4), int64(6), object(4)\n",
      "memory usage: 580.9+ KB\n"
     ]
    }
   ],
   "source": [
    "df.info()\n"
   ]
  },
  {
   "cell_type": "code",
   "execution_count": 4,
   "metadata": {},
   "outputs": [
    {
     "data": {
      "text/html": [
       "<div>\n",
       "<style scoped>\n",
       "    .dataframe tbody tr th:only-of-type {\n",
       "        vertical-align: middle;\n",
       "    }\n",
       "\n",
       "    .dataframe tbody tr th {\n",
       "        vertical-align: top;\n",
       "    }\n",
       "\n",
       "    .dataframe thead th {\n",
       "        text-align: right;\n",
       "    }\n",
       "</style>\n",
       "<table border=\"1\" class=\"dataframe\">\n",
       "  <thead>\n",
       "    <tr style=\"text-align: right;\">\n",
       "      <th></th>\n",
       "      <th>UAS</th>\n",
       "      <th>WkActualCost</th>\n",
       "      <th>WkRemainingCost</th>\n",
       "      <th>WkBaseline0Cost</th>\n",
       "      <th>Week#</th>\n",
       "      <th>EndWkDate</th>\n",
       "      <th>WkActualCostCumm</th>\n",
       "      <th>WkRemainingCostCumm</th>\n",
       "      <th>WkBaseline0CostCumm</th>\n",
       "      <th>VolpeTask</th>\n",
       "      <th>FundsExhaustedWk</th>\n",
       "      <th>UASCommitment</th>\n",
       "      <th>FormAAcceptedAmt</th>\n",
       "      <th>FormAAcceptedAmtCumm</th>\n",
       "    </tr>\n",
       "    <tr>\n",
       "      <th>Expr1</th>\n",
       "      <th></th>\n",
       "      <th></th>\n",
       "      <th></th>\n",
       "      <th></th>\n",
       "      <th></th>\n",
       "      <th></th>\n",
       "      <th></th>\n",
       "      <th></th>\n",
       "      <th></th>\n",
       "      <th></th>\n",
       "      <th></th>\n",
       "      <th></th>\n",
       "      <th></th>\n",
       "      <th></th>\n",
       "    </tr>\n",
       "  </thead>\n",
       "  <tbody>\n",
       "    <tr>\n",
       "      <td>0</td>\n",
       "      <td>D0102A</td>\n",
       "      <td>1677.1</td>\n",
       "      <td>0.0</td>\n",
       "      <td>NaN</td>\n",
       "      <td>17</td>\n",
       "      <td>25-Jan-20</td>\n",
       "      <td>33039</td>\n",
       "      <td>0</td>\n",
       "      <td>0</td>\n",
       "      <td>xxx</td>\n",
       "      <td>NaN</td>\n",
       "      <td>0</td>\n",
       "      <td>NaN</td>\n",
       "      <td>128359</td>\n",
       "    </tr>\n",
       "    <tr>\n",
       "      <td>0</td>\n",
       "      <td>D0102A</td>\n",
       "      <td>1087.6</td>\n",
       "      <td>0.0</td>\n",
       "      <td>NaN</td>\n",
       "      <td>18</td>\n",
       "      <td>01-Feb-20</td>\n",
       "      <td>34127</td>\n",
       "      <td>0</td>\n",
       "      <td>0</td>\n",
       "      <td>xxx</td>\n",
       "      <td>NaN</td>\n",
       "      <td>0</td>\n",
       "      <td>NaN</td>\n",
       "      <td>128359</td>\n",
       "    </tr>\n",
       "  </tbody>\n",
       "</table>\n",
       "</div>"
      ],
      "text/plain": [
       "          UAS  WkActualCost  WkRemainingCost  WkBaseline0Cost  Week#  \\\n",
       "Expr1                                                                  \n",
       "0      D0102A        1677.1              0.0              NaN     17   \n",
       "0      D0102A        1087.6              0.0              NaN     18   \n",
       "\n",
       "       EndWkDate  WkActualCostCumm  WkRemainingCostCumm  WkBaseline0CostCumm  \\\n",
       "Expr1                                                                          \n",
       "0      25-Jan-20             33039                    0                    0   \n",
       "0      01-Feb-20             34127                    0                    0   \n",
       "\n",
       "      VolpeTask FundsExhaustedWk  UASCommitment  FormAAcceptedAmt  \\\n",
       "Expr1                                                               \n",
       "0           xxx              NaN              0               NaN   \n",
       "0           xxx              NaN              0               NaN   \n",
       "\n",
       "       FormAAcceptedAmtCumm  \n",
       "Expr1                        \n",
       "0                    128359  \n",
       "0                    128359  "
      ]
     },
     "execution_count": 4,
     "metadata": {},
     "output_type": "execute_result"
    }
   ],
   "source": [
    "df.head(2)"
   ]
  },
  {
   "cell_type": "code",
   "execution_count": 11,
   "metadata": {},
   "outputs": [
    {
     "ename": "TypeError",
     "evalue": "only list-like or dict-like objects are allowed to be passed to DataFrame.isin(), you passed a 'str'",
     "output_type": "error",
     "traceback": [
      "\u001b[1;31m---------------------------------------------------------------------------\u001b[0m",
      "\u001b[1;31mTypeError\u001b[0m                                 Traceback (most recent call last)",
      "\u001b[1;32m<ipython-input-11-c95b48feb56c>\u001b[0m in \u001b[0;36m<module>\u001b[1;34m\u001b[0m\n\u001b[1;32m----> 1\u001b[1;33m \u001b[0mD0102A\u001b[0m \u001b[1;33m=\u001b[0m \u001b[0mdf\u001b[0m\u001b[1;33m[\u001b[0m\u001b[0mdf\u001b[0m\u001b[1;33m.\u001b[0m\u001b[0misin\u001b[0m\u001b[1;33m(\u001b[0m\u001b[1;34m'D0102A'\u001b[0m\u001b[1;33m)\u001b[0m\u001b[1;33m]\u001b[0m\u001b[1;33m\u001b[0m\u001b[1;33m\u001b[0m\u001b[0m\n\u001b[0m",
      "\u001b[1;32m~\\AppData\\Local\\Continuum\\anaconda3\\lib\\site-packages\\pandas\\core\\frame.py\u001b[0m in \u001b[0;36misin\u001b[1;34m(self, values)\u001b[0m\n\u001b[0;32m   8446\u001b[0m                     \u001b[1;34m\"allowed to be passed to DataFrame.isin(), \"\u001b[0m\u001b[1;33m\u001b[0m\u001b[1;33m\u001b[0m\u001b[0m\n\u001b[0;32m   8447\u001b[0m                     \u001b[1;34m\"you passed a \"\u001b[0m\u001b[1;33m\u001b[0m\u001b[1;33m\u001b[0m\u001b[0m\n\u001b[1;32m-> 8448\u001b[1;33m                     \u001b[1;34m\"{0!r}\"\u001b[0m\u001b[1;33m.\u001b[0m\u001b[0mformat\u001b[0m\u001b[1;33m(\u001b[0m\u001b[0mtype\u001b[0m\u001b[1;33m(\u001b[0m\u001b[0mvalues\u001b[0m\u001b[1;33m)\u001b[0m\u001b[1;33m.\u001b[0m\u001b[0m__name__\u001b[0m\u001b[1;33m)\u001b[0m\u001b[1;33m\u001b[0m\u001b[1;33m\u001b[0m\u001b[0m\n\u001b[0m\u001b[0;32m   8449\u001b[0m                 )\n\u001b[0;32m   8450\u001b[0m             return DataFrame(\n",
      "\u001b[1;31mTypeError\u001b[0m: only list-like or dict-like objects are allowed to be passed to DataFrame.isin(), you passed a 'str'"
     ]
    }
   ],
   "source": [
    "D0102A = df[df.isin('D0102A')]"
   ]
  },
  {
   "cell_type": "code",
   "execution_count": 10,
   "metadata": {},
   "outputs": [
    {
     "name": "stdout",
     "output_type": "stream",
     "text": [
      "          UAS  WkActualCost  WkRemainingCost  WkBaseline0Cost  Week#  \\\n",
      "Expr1                                                                  \n",
      "0      D0102A        1677.1         0.000000              NaN     17   \n",
      "0      D0102A        1087.6         0.000000              NaN     18   \n",
      "0      D0102A        1889.1         0.000000              NaN     19   \n",
      "0      D0102A        1889.1         0.000000              NaN     20   \n",
      "0      D0102A        1418.6         0.000000              NaN     21   \n",
      "...       ...           ...              ...              ...    ...   \n",
      "0      X0200A           0.0      4405.306760              NaN     49   \n",
      "0      X0200A           0.0      3524.245408              NaN     50   \n",
      "0      X0200A           0.0      4401.065540              NaN     51   \n",
      "0      X0200A           0.0      4382.902096              NaN     52   \n",
      "0      X0200A           0.0         0.000000              NaN     53   \n",
      "\n",
      "       EndWkDate  WkActualCostCumm  WkRemainingCostCumm  WkBaseline0CostCumm  \\\n",
      "Expr1                                                                          \n",
      "0      25-Jan-20             33039                    0                    0   \n",
      "0      01-Feb-20             34127                    0                    0   \n",
      "0      08-Feb-20             36016                    0                    0   \n",
      "0      15-Feb-20             37905                    0                    0   \n",
      "0      22-Feb-20             39324                    0                    0   \n",
      "...          ...               ...                  ...                  ...   \n",
      "0      05-Sep-20             58040               111575                    0   \n",
      "0      12-Sep-20             58040               115099                    0   \n",
      "0      19-Sep-20             58040               119500                    0   \n",
      "0      26-Sep-20             58040               123883                    0   \n",
      "0      30-Sep-20             58040               123883                    0   \n",
      "\n",
      "      VolpeTask FundsExhaustedWk  UASCommitment  FormAAcceptedAmt  \\\n",
      "Expr1                                                               \n",
      "0           xxx              NaN              0               NaN   \n",
      "0           xxx              NaN              0               NaN   \n",
      "0           xxx              NaN              0               NaN   \n",
      "0           xxx              NaN              0               NaN   \n",
      "0           xxx              NaN              0               NaN   \n",
      "...         ...              ...            ...               ...   \n",
      "0        J06200                X          75000               NaN   \n",
      "0        J06200                X          75000               NaN   \n",
      "0        J06200                X          75000               NaN   \n",
      "0        J06200                X          75000               NaN   \n",
      "0        J06200                X          75000               NaN   \n",
      "\n",
      "       FormAAcceptedAmtCumm  \n",
      "Expr1                        \n",
      "0                    128359  \n",
      "0                    128359  \n",
      "0                    128359  \n",
      "0                    128359  \n",
      "0                    128359  \n",
      "...                     ...  \n",
      "0                     75000  \n",
      "0                     75000  \n",
      "0                     75000  \n",
      "0                     75000  \n",
      "0                     75000  \n",
      "\n",
      "[4957 rows x 14 columns]\n"
     ]
    }
   ],
   "source": [
    "print(df)"
   ]
  },
  {
   "cell_type": "code",
   "execution_count": 18,
   "metadata": {},
   "outputs": [],
   "source": [
    "df = df.replace({'n.a': np.nan})\n",
    "df = df.replace({'?': np.nan})"
   ]
  },
  {
   "cell_type": "code",
   "execution_count": 19,
   "metadata": {},
   "outputs": [
    {
     "name": "stdout",
     "output_type": "stream",
     "text": [
      "Your selected dataframe has 9 columns.\n",
      "There are 1 columns that have missing values.\n"
     ]
    },
    {
     "data": {
      "text/html": [
       "<div>\n",
       "<style scoped>\n",
       "    .dataframe tbody tr th:only-of-type {\n",
       "        vertical-align: middle;\n",
       "    }\n",
       "\n",
       "    .dataframe tbody tr th {\n",
       "        vertical-align: top;\n",
       "    }\n",
       "\n",
       "    .dataframe thead th {\n",
       "        text-align: right;\n",
       "    }\n",
       "</style>\n",
       "<table border=\"1\" class=\"dataframe\">\n",
       "  <thead>\n",
       "    <tr style=\"text-align: right;\">\n",
       "      <th></th>\n",
       "      <th>Missing Values</th>\n",
       "      <th>% of Total Values</th>\n",
       "    </tr>\n",
       "  </thead>\n",
       "  <tbody>\n",
       "    <tr>\n",
       "      <td>price</td>\n",
       "      <td>3</td>\n",
       "      <td>4.9</td>\n",
       "    </tr>\n",
       "  </tbody>\n",
       "</table>\n",
       "</div>"
      ],
      "text/plain": [
       "       Missing Values  % of Total Values\n",
       "price               3                4.9"
      ]
     },
     "execution_count": 19,
     "metadata": {},
     "output_type": "execute_result"
    }
   ],
   "source": [
    "def missing_values_table(df):\n",
    "        # Total missing values\n",
    "        mis_val = df.isnull().sum()\n",
    "        \n",
    "        # Percentage of missing values\n",
    "        mis_val_percent = 100 * df.isnull().sum() / len(df)\n",
    "        \n",
    "        # Make a table with the results\n",
    "        mis_val_table = pd.concat([mis_val, mis_val_percent], axis=1)\n",
    "        \n",
    "        # Rename the columns\n",
    "        mis_val_table_ren_columns = mis_val_table.rename(\n",
    "        columns = {0 : 'Missing Values', 1 : '% of Total Values'})\n",
    "        \n",
    "        # Sort the table by percentage of missing descending\n",
    "        mis_val_table_ren_columns = mis_val_table_ren_columns[\n",
    "            mis_val_table_ren_columns.iloc[:,1] != 0].sort_values(\n",
    "        '% of Total Values', ascending=False).round(1)\n",
    "        \n",
    "        # Print some summary information\n",
    "        print (\"Your selected dataframe has \" + str(df.shape[1]) + \" columns.\\n\"      \n",
    "            \"There are \" + str(mis_val_table_ren_columns.shape[0]) +\n",
    "              \" columns that have missing values.\")\n",
    "        \n",
    "        # Return the dataframe with missing information\n",
    "        return mis_val_table_ren_columns\n",
    "missing_values_table(df)"
   ]
  },
  {
   "cell_type": "code",
   "execution_count": 24,
   "metadata": {},
   "outputs": [
    {
     "name": "stdout",
     "output_type": "stream",
     "text": [
      "Your selected dataframe has 9 columns.\n",
      "There are 1 columns that have missing values.\n",
      "We will remove 0 columns.\n"
     ]
    }
   ],
   "source": [
    "# Get the columns with > 50% missing\n",
    "missing_df = missing_values_table(df);\n",
    "missing_columns = list(missing_df[missing_df['% of Total Values'] > 50].index)\n",
    "print('We will remove %d columns.' % len(missing_columns))"
   ]
  },
  {
   "cell_type": "code",
   "execution_count": 27,
   "metadata": {},
   "outputs": [],
   "source": [
    "# Drop the columns\n",
    "df = df.drop(columns = list(missing_columns))"
   ]
  }
 ],
 "metadata": {
  "kernelspec": {
   "display_name": "Python 3",
   "language": "python",
   "name": "python3"
  },
  "language_info": {
   "codemirror_mode": {
    "name": "ipython",
    "version": 3
   },
   "file_extension": ".py",
   "mimetype": "text/x-python",
   "name": "python",
   "nbconvert_exporter": "python",
   "pygments_lexer": "ipython3",
   "version": "3.7.4"
  }
 },
 "nbformat": 4,
 "nbformat_minor": 2
}
