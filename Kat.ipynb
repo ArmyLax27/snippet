{
 "cells": [
  {
   "cell_type": "code",
   "execution_count": 86,
   "metadata": {},
   "outputs": [],
   "source": [
    "import pandas as pd\n",
    "import numpy as np"
   ]
  },
  {
   "cell_type": "code",
   "execution_count": 87,
   "metadata": {},
   "outputs": [
    {
     "name": "stdout",
     "output_type": "stream",
     "text": [
      "     Names  Numbers\n",
      "NaN    sam        1\n",
      "NaN    kat        2\n",
      "NaN  steve        3\n",
      "NaN    jon        4\n",
      "NaN  billy        5\n"
     ]
    }
   ],
   "source": [
    "df1 = pd.read_excel(r\"C:\\Users\\Samuel.Harrison.CTR\\Desktop\\lst1.xlsx\", index_col = 0)\n",
    "print(df1.head())"
   ]
  },
  {
   "cell_type": "code",
   "execution_count": 88,
   "metadata": {},
   "outputs": [
    {
     "name": "stdout",
     "output_type": "stream",
     "text": [
      "['sam', 'kat', 'steve', 'jon', 'billy']\n"
     ]
    }
   ],
   "source": [
    "lst1_names = df1['Names'].to_list()\n",
    "print(lst1_names)"
   ]
  },
  {
   "cell_type": "code",
   "execution_count": 89,
   "metadata": {},
   "outputs": [
    {
     "name": "stdout",
     "output_type": "stream",
     "text": [
      "     Names  Numbers\n",
      "NaN    sam        5\n",
      "NaN    kat        2\n",
      "NaN  steve        3\n",
      "NaN    kim        5\n"
     ]
    }
   ],
   "source": [
    "df2 = pd.read_excel(r\"C:\\Users\\Samuel.Harrison.CTR\\Desktop\\lst2.xlsx\", index_col = 0)\n",
    "print(df2.head())"
   ]
  },
  {
   "cell_type": "code",
   "execution_count": 90,
   "metadata": {},
   "outputs": [
    {
     "name": "stdout",
     "output_type": "stream",
     "text": [
      "['sam', 'kat', 'steve', 'kim']\n"
     ]
    }
   ],
   "source": [
    "lst2_names = df2['Names'].to_list()\n",
    "print(lst2_names)"
   ]
  },
  {
   "cell_type": "code",
   "execution_count": 91,
   "metadata": {},
   "outputs": [],
   "source": [
    "def compare(x,y):\n",
    "    missing = []\n",
    "    for i in x:\n",
    "        if i not in y:\n",
    "            missing.append(i)\n",
    "    for i in y:\n",
    "        if i not in x:\n",
    "            missing.append(i)\n",
    "    print(missing)"
   ]
  },
  {
   "cell_type": "code",
   "execution_count": 92,
   "metadata": {},
   "outputs": [
    {
     "name": "stdout",
     "output_type": "stream",
     "text": [
      "['jon', 'billy', 'kim']\n"
     ]
    }
   ],
   "source": [
    "compare(lst1_names,lst2_names)"
   ]
  }
 ],
 "metadata": {
  "kernelspec": {
   "display_name": "Python 3",
   "language": "python",
   "name": "python3"
  },
  "language_info": {
   "codemirror_mode": {
    "name": "ipython",
    "version": 3
   },
   "file_extension": ".py",
   "mimetype": "text/x-python",
   "name": "python",
   "nbconvert_exporter": "python",
   "pygments_lexer": "ipython3",
   "version": "3.7.4"
  }
 },
 "nbformat": 4,
 "nbformat_minor": 2
}
