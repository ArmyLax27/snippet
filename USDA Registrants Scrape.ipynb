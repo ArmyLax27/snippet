{
 "cells": [
  {
   "cell_type": "code",
   "execution_count": 1,
   "metadata": {},
   "outputs": [],
   "source": [
    "from selenium import webdriver\n",
    "import time \n",
    "import pandas as pd\n",
    "import numpy as np \n",
    "import re \n",
    "\n",
    "from bs4 import BeautifulSoup as bs \n",
    "import requests"
   ]
  },
  {
   "cell_type": "markdown",
   "metadata": {},
   "source": [
    "### Use Selenium to Open URL"
   ]
  },
  {
   "cell_type": "code",
   "execution_count": 2,
   "metadata": {},
   "outputs": [],
   "source": [
    "driver = webdriver.Chrome(\"C:\\chromedriver_win32\\chromedriver.exe\")\n",
    "url = 'https://acis.aphis.edc.usda.gov/ords/f?p=118:205'\n",
    "view_registrants_button = '/html/body/form/div/div[2]/section[2]/table/tbody/tr/td[1]/div/a'\n",
    "\n",
    "driver.get(url)\n",
    "driver.find_element_by_xpath(view_registrants_button).click()"
   ]
  },
  {
   "cell_type": "markdown",
   "metadata": {},
   "source": [
    "### Use Selenium to Click Table Then Itterate through the pages to add Each Element to a List for 1st DF"
   ]
  },
  {
   "cell_type": "code",
   "execution_count": 3,
   "metadata": {},
   "outputs": [],
   "source": [
    "view_registrants_button = '/html/body/form/div/div[2]/section[2]/table/tbody/tr/td[1]/div/a'\n",
    "registrants_xpath= '//*[@id=\"report_R81923131975772430\"]/tbody[2]/tr/td/table'\n",
    "registrants_next_button = '//*[@id=\"report_R81923131975772430\"]/tbody[3]/tr/td/table/tbody/tr/td[4]/a'\n",
    "\n",
    "counter = 0\n",
    "lst = []\n",
    "lst1 = []\n",
    "\n",
    "driver.find_element_by_xpath(view_registrants_button).click()\n",
    "\n",
    "while counter <= 173:\n",
    "    time.sleep(5)\n",
    "    driver.find_element_by_xpath(registrants_xpath)\n",
    "    for b in driver.find_elements_by_xpath(registrants_xpath):\n",
    "        br = b.find_elements_by_tag_name('b')\n",
    "        lst.append([b.text.replace('\\n', ' ').strip() for b in br])\n",
    "    for tr in driver.find_elements_by_xpath(registrants_xpath):\n",
    "        tds = tr.find_elements_by_tag_name('td')\n",
    "        lst1.append([td.text.replace('\\n', ' ').strip() for td in tds])\n",
    "    driver.find_element_by_xpath(registrants_next_button).click()\n",
    "    time.sleep(2)\n",
    "    counter += 1 "
   ]
  },
  {
   "cell_type": "markdown",
   "metadata": {},
   "source": [
    "### Reshape List into DF "
   ]
  },
  {
   "cell_type": "code",
   "execution_count": 4,
   "metadata": {},
   "outputs": [],
   "source": [
    "df = pd.DataFrame(np.array(lst).reshape(-1 ,5))"
   ]
  },
  {
   "cell_type": "code",
   "execution_count": 5,
   "metadata": {},
   "outputs": [],
   "source": [
    "df2 = pd.DataFrame(np.array(lst1).reshape(-1 ,3))"
   ]
  },
  {
   "cell_type": "markdown",
   "metadata": {},
   "source": [
    "### Rename Columns"
   ]
  },
  {
   "cell_type": "code",
   "execution_count": 6,
   "metadata": {},
   "outputs": [],
   "source": [
    "df.columns = [['org_name',\n",
    "               'customer_no',\n",
    "               'certificate_no',\n",
    "              'certificate_status',\n",
    "              'status_date']]"
   ]
  },
  {
   "cell_type": "code",
   "execution_count": 7,
   "metadata": {},
   "outputs": [],
   "source": [
    "df2.columns = [['0','1','address']]"
   ]
  },
  {
   "cell_type": "code",
   "execution_count": 8,
   "metadata": {},
   "outputs": [
    {
     "data": {
      "text/html": [
       "<div>\n",
       "<style scoped>\n",
       "    .dataframe tbody tr th:only-of-type {\n",
       "        vertical-align: middle;\n",
       "    }\n",
       "\n",
       "    .dataframe tbody tr th {\n",
       "        vertical-align: top;\n",
       "    }\n",
       "\n",
       "    .dataframe thead tr th {\n",
       "        text-align: left;\n",
       "    }\n",
       "</style>\n",
       "<table border=\"1\" class=\"dataframe\">\n",
       "  <thead>\n",
       "    <tr>\n",
       "      <th></th>\n",
       "      <th>org_name</th>\n",
       "      <th>customer_no</th>\n",
       "      <th>certificate_no</th>\n",
       "      <th>certificate_status</th>\n",
       "      <th>status_date</th>\n",
       "    </tr>\n",
       "  </thead>\n",
       "  <tbody>\n",
       "    <tr>\n",
       "      <th>0</th>\n",
       "      <td>UTAH STATE UNIVERSITY()</td>\n",
       "      <td>2</td>\n",
       "      <td>87-R-0002</td>\n",
       "      <td>ACTIVE</td>\n",
       "      <td>Jul 17, 2019</td>\n",
       "    </tr>\n",
       "    <tr>\n",
       "      <th>1</th>\n",
       "      <td>BRIGHAM YOUNG UNIVERSITY()</td>\n",
       "      <td>3</td>\n",
       "      <td>87-R-0003</td>\n",
       "      <td>ACTIVE</td>\n",
       "      <td>Jul 17, 2019</td>\n",
       "    </tr>\n",
       "  </tbody>\n",
       "</table>\n",
       "</div>"
      ],
      "text/plain": [
       "                     org_name customer_no certificate_no certificate_status  \\\n",
       "0     UTAH STATE UNIVERSITY()           2      87-R-0002             ACTIVE   \n",
       "1  BRIGHAM YOUNG UNIVERSITY()           3      87-R-0003             ACTIVE   \n",
       "\n",
       "    status_date  \n",
       "0  Jul 17, 2019  \n",
       "1  Jul 17, 2019  "
      ]
     },
     "execution_count": 8,
     "metadata": {},
     "output_type": "execute_result"
    }
   ],
   "source": [
    "df.head(2)"
   ]
  },
  {
   "cell_type": "code",
   "execution_count": 9,
   "metadata": {},
   "outputs": [],
   "source": [
    "addresses = []\n",
    "for i in range(len(df2)): \n",
    "  addresses.append(df2.loc[i, 'address'])"
   ]
  },
  {
   "cell_type": "code",
   "execution_count": 10,
   "metadata": {},
   "outputs": [],
   "source": [
    "df3 = pd.DataFrame(np.array(addresses).reshape(-1 ,1))"
   ]
  },
  {
   "cell_type": "code",
   "execution_count": 11,
   "metadata": {},
   "outputs": [],
   "source": [
    "df3 = df3.astype(str)"
   ]
  },
  {
   "cell_type": "code",
   "execution_count": 12,
   "metadata": {},
   "outputs": [
    {
     "data": {
      "text/html": [
       "<div>\n",
       "<style scoped>\n",
       "    .dataframe tbody tr th:only-of-type {\n",
       "        vertical-align: middle;\n",
       "    }\n",
       "\n",
       "    .dataframe tbody tr th {\n",
       "        vertical-align: top;\n",
       "    }\n",
       "\n",
       "    .dataframe thead th {\n",
       "        text-align: right;\n",
       "    }\n",
       "</style>\n",
       "<table border=\"1\" class=\"dataframe\">\n",
       "  <thead>\n",
       "    <tr style=\"text-align: right;\">\n",
       "      <th></th>\n",
       "      <th>(org_name,)</th>\n",
       "      <th>(customer_no,)</th>\n",
       "      <th>(certificate_no,)</th>\n",
       "      <th>(certificate_status,)</th>\n",
       "      <th>(status_date,)</th>\n",
       "      <th>0</th>\n",
       "    </tr>\n",
       "  </thead>\n",
       "  <tbody>\n",
       "    <tr>\n",
       "      <th>0</th>\n",
       "      <td>UTAH STATE UNIVERSITY()</td>\n",
       "      <td>2</td>\n",
       "      <td>87-R-0002</td>\n",
       "      <td>ACTIVE</td>\n",
       "      <td>Jul 17, 2019</td>\n",
       "      <td>V.P. FOR RESEARCH/1450 OLD MAIN HILL   LOGAN, ...</td>\n",
       "    </tr>\n",
       "    <tr>\n",
       "      <th>1</th>\n",
       "      <td>BRIGHAM YOUNG UNIVERSITY()</td>\n",
       "      <td>3</td>\n",
       "      <td>87-R-0003</td>\n",
       "      <td>ACTIVE</td>\n",
       "      <td>Jul 17, 2019</td>\n",
       "      <td>OFFICE OF RESEARCH &amp; CREATIVE ACTIVITIES A-285...</td>\n",
       "    </tr>\n",
       "    <tr>\n",
       "      <th>2</th>\n",
       "      <td>LDS HOSPITAL()</td>\n",
       "      <td>4</td>\n",
       "      <td>87-R-0004</td>\n",
       "      <td>CANCELLED</td>\n",
       "      <td>Dec 13, 2007</td>\n",
       "      <td>INTERMOUNTAIN HEALTHCARE OFFICE OF RESEARCH 8T...</td>\n",
       "    </tr>\n",
       "    <tr>\n",
       "      <th>3</th>\n",
       "      <td>WEBER STATE UNIVERSITY()</td>\n",
       "      <td>5</td>\n",
       "      <td>87-R-0008</td>\n",
       "      <td>ACTIVE</td>\n",
       "      <td>Nov 29, 2019</td>\n",
       "      <td>3850 Dixon Parkway Department 1027   OGDEN, UT...</td>\n",
       "    </tr>\n",
       "    <tr>\n",
       "      <th>4</th>\n",
       "      <td>UNIVERSITY OF UTAH()</td>\n",
       "      <td>12</td>\n",
       "      <td>87-R-0001</td>\n",
       "      <td>ACTIVE</td>\n",
       "      <td>Jul 16, 2019</td>\n",
       "      <td>OFFICE OF COMPARATIVE MEDICINE 75 SOUTH 2000 E...</td>\n",
       "    </tr>\n",
       "  </tbody>\n",
       "</table>\n",
       "</div>"
      ],
      "text/plain": [
       "                  (org_name,) (customer_no,) (certificate_no,)  \\\n",
       "0     UTAH STATE UNIVERSITY()              2         87-R-0002   \n",
       "1  BRIGHAM YOUNG UNIVERSITY()              3         87-R-0003   \n",
       "2              LDS HOSPITAL()              4         87-R-0004   \n",
       "3    WEBER STATE UNIVERSITY()              5         87-R-0008   \n",
       "4        UNIVERSITY OF UTAH()             12         87-R-0001   \n",
       "\n",
       "  (certificate_status,) (status_date,)  \\\n",
       "0                ACTIVE   Jul 17, 2019   \n",
       "1                ACTIVE   Jul 17, 2019   \n",
       "2             CANCELLED   Dec 13, 2007   \n",
       "3                ACTIVE   Nov 29, 2019   \n",
       "4                ACTIVE   Jul 16, 2019   \n",
       "\n",
       "                                                   0  \n",
       "0  V.P. FOR RESEARCH/1450 OLD MAIN HILL   LOGAN, ...  \n",
       "1  OFFICE OF RESEARCH & CREATIVE ACTIVITIES A-285...  \n",
       "2  INTERMOUNTAIN HEALTHCARE OFFICE OF RESEARCH 8T...  \n",
       "3  3850 Dixon Parkway Department 1027   OGDEN, UT...  \n",
       "4  OFFICE OF COMPARATIVE MEDICINE 75 SOUTH 2000 E...  "
      ]
     },
     "execution_count": 12,
     "metadata": {},
     "output_type": "execute_result"
    }
   ],
   "source": [
    "concat = pd.concat([df,df3], axis = 1)\n",
    "concat.head()"
   ]
  },
  {
   "cell_type": "code",
   "execution_count": 13,
   "metadata": {},
   "outputs": [],
   "source": [
    "concat.columns = [['org_name',\n",
    "               'customer_no',\n",
    "               'certificate_no',\n",
    "              'certificate_status',\n",
    "              'status_date',\n",
    "                   'address']]"
   ]
  },
  {
   "cell_type": "code",
   "execution_count": 14,
   "metadata": {},
   "outputs": [
    {
     "data": {
      "text/html": [
       "<div>\n",
       "<style scoped>\n",
       "    .dataframe tbody tr th:only-of-type {\n",
       "        vertical-align: middle;\n",
       "    }\n",
       "\n",
       "    .dataframe tbody tr th {\n",
       "        vertical-align: top;\n",
       "    }\n",
       "\n",
       "    .dataframe thead tr th {\n",
       "        text-align: left;\n",
       "    }\n",
       "</style>\n",
       "<table border=\"1\" class=\"dataframe\">\n",
       "  <thead>\n",
       "    <tr>\n",
       "      <th></th>\n",
       "      <th>org_name</th>\n",
       "      <th>customer_no</th>\n",
       "      <th>certificate_no</th>\n",
       "      <th>certificate_status</th>\n",
       "      <th>status_date</th>\n",
       "      <th>address</th>\n",
       "    </tr>\n",
       "  </thead>\n",
       "  <tbody>\n",
       "    <tr>\n",
       "      <th>0</th>\n",
       "      <td>UTAH STATE UNIVERSITY()</td>\n",
       "      <td>2</td>\n",
       "      <td>87-R-0002</td>\n",
       "      <td>ACTIVE</td>\n",
       "      <td>Jul 17, 2019</td>\n",
       "      <td>V.P. FOR RESEARCH/1450 OLD MAIN HILL   LOGAN, ...</td>\n",
       "    </tr>\n",
       "    <tr>\n",
       "      <th>1</th>\n",
       "      <td>BRIGHAM YOUNG UNIVERSITY()</td>\n",
       "      <td>3</td>\n",
       "      <td>87-R-0003</td>\n",
       "      <td>ACTIVE</td>\n",
       "      <td>Jul 17, 2019</td>\n",
       "      <td>OFFICE OF RESEARCH &amp; CREATIVE ACTIVITIES A-285...</td>\n",
       "    </tr>\n",
       "    <tr>\n",
       "      <th>2</th>\n",
       "      <td>LDS HOSPITAL()</td>\n",
       "      <td>4</td>\n",
       "      <td>87-R-0004</td>\n",
       "      <td>CANCELLED</td>\n",
       "      <td>Dec 13, 2007</td>\n",
       "      <td>INTERMOUNTAIN HEALTHCARE OFFICE OF RESEARCH 8T...</td>\n",
       "    </tr>\n",
       "    <tr>\n",
       "      <th>3</th>\n",
       "      <td>WEBER STATE UNIVERSITY()</td>\n",
       "      <td>5</td>\n",
       "      <td>87-R-0008</td>\n",
       "      <td>ACTIVE</td>\n",
       "      <td>Nov 29, 2019</td>\n",
       "      <td>3850 Dixon Parkway Department 1027   OGDEN, UT...</td>\n",
       "    </tr>\n",
       "    <tr>\n",
       "      <th>4</th>\n",
       "      <td>UNIVERSITY OF UTAH()</td>\n",
       "      <td>12</td>\n",
       "      <td>87-R-0001</td>\n",
       "      <td>ACTIVE</td>\n",
       "      <td>Jul 16, 2019</td>\n",
       "      <td>OFFICE OF COMPARATIVE MEDICINE 75 SOUTH 2000 E...</td>\n",
       "    </tr>\n",
       "  </tbody>\n",
       "</table>\n",
       "</div>"
      ],
      "text/plain": [
       "                     org_name customer_no certificate_no certificate_status  \\\n",
       "0     UTAH STATE UNIVERSITY()           2      87-R-0002             ACTIVE   \n",
       "1  BRIGHAM YOUNG UNIVERSITY()           3      87-R-0003             ACTIVE   \n",
       "2              LDS HOSPITAL()           4      87-R-0004          CANCELLED   \n",
       "3    WEBER STATE UNIVERSITY()           5      87-R-0008             ACTIVE   \n",
       "4        UNIVERSITY OF UTAH()          12      87-R-0001             ACTIVE   \n",
       "\n",
       "    status_date                                            address  \n",
       "0  Jul 17, 2019  V.P. FOR RESEARCH/1450 OLD MAIN HILL   LOGAN, ...  \n",
       "1  Jul 17, 2019  OFFICE OF RESEARCH & CREATIVE ACTIVITIES A-285...  \n",
       "2  Dec 13, 2007  INTERMOUNTAIN HEALTHCARE OFFICE OF RESEARCH 8T...  \n",
       "3  Nov 29, 2019  3850 Dixon Parkway Department 1027   OGDEN, UT...  \n",
       "4  Jul 16, 2019  OFFICE OF COMPARATIVE MEDICINE 75 SOUTH 2000 E...  "
      ]
     },
     "execution_count": 14,
     "metadata": {},
     "output_type": "execute_result"
    }
   ],
   "source": [
    "concat.head()"
   ]
  },
  {
   "cell_type": "code",
   "execution_count": 15,
   "metadata": {},
   "outputs": [],
   "source": [
    "concat.to_excel(r'C:\\Users\\harri\\OneDrive\\Documents\\USDA Reports\\Registrants.xlsx', index = False)"
   ]
  }
 ],
 "metadata": {
  "kernelspec": {
   "display_name": "Python 3",
   "language": "python",
   "name": "python3"
  },
  "language_info": {
   "codemirror_mode": {
    "name": "ipython",
    "version": 3
   },
   "file_extension": ".py",
   "mimetype": "text/x-python",
   "name": "python",
   "nbconvert_exporter": "python",
   "pygments_lexer": "ipython3",
   "version": "3.7.6"
  }
 },
 "nbformat": 4,
 "nbformat_minor": 4
}
