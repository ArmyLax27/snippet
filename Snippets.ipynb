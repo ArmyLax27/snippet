{
 "cells": [
  {
   "cell_type": "markdown",
   "metadata": {},
   "source": [
    "1. Data cleaning and formatting\n",
    "2. Exploratory data analysis\n",
    "3. Feature engineering and selection\n",
    "4. Compare several machine learning models on a performance metric\n",
    "5. Perform hyperparameter tuning on the best model\n",
    "6. Evaluate the best model on the testing set\n",
    "7. Interpret the model results\n",
    "8. Draw conclusions and document work"
   ]
  },
  {
   "cell_type": "markdown",
   "metadata": {},
   "source": [
    "## -1. Libraries"
   ]
  },
  {
   "cell_type": "code",
   "execution_count": null,
   "metadata": {},
   "outputs": [],
   "source": [
    "# Pandas and numpy for data manipulation\n",
    "import pandas as pd\n",
    "import numpy as np\n",
    "\n",
    "# No warnings about setting value on copy of slice\n",
    "pd.options.mode.chained_assignment = None\n",
    "\n",
    "# Display up to 60 columns of a dataframe\n",
    "pd.set_option('display.max_columns', 60)\n",
    "\n",
    "# Matplotlib visualization\n",
    "import matplotlib.pyplot as plt\n",
    "%matplotlib inline\n",
    "\n",
    "# Set default font size\n",
    "plt.rcParams['font.size'] = 24\n",
    "\n",
    "# Internal ipython tool for setting figure size\n",
    "from IPython.core.pylabtools import figsize\n",
    "\n",
    "# Seaborn for visualization\n",
    "import seaborn as sns\n",
    "sns.set(font_scale = 2)\n",
    "\n",
    "# Splitting data into training and testing\n",
    "from sklearn.model_selection import train_test_split"
   ]
  },
  {
   "cell_type": "markdown",
   "metadata": {},
   "source": [
    "## 0. Import"
   ]
  },
  {
   "cell_type": "code",
   "execution_count": null,
   "metadata": {},
   "outputs": [],
   "source": [
    "#CSV from Computer\n",
    "filepath = r\"<FILEPATH>\" \n",
    "df = pd.read_csv(filepath, encoding='latin1')\n",
    "\n",
    "#TSV from URL\n",
    "url = '<URL>'\n",
    "df = pd.read_csv(url, sep = '\\t')"
   ]
  },
  {
   "cell_type": "markdown",
   "metadata": {},
   "source": [
    "## 1. Data Cleaning and formating"
   ]
  },
  {
   "cell_type": "code",
   "execution_count": null,
   "metadata": {},
   "outputs": [],
   "source": [
    "# Review data & replace all occurrences of Not Available with numpy not a number\n",
    "df.info()\n",
    "df = df.replace({'Not Available': np.nan})\n",
    "\n",
    "# Iterate through the columns. Select columns that should be numeric. Convert the data type to float.\n",
    "for col in list(df.columns):  \n",
    "    if ('ft²' in col or 'kBtu'):\n",
    "        df[col] = df[col].astype(float)\n",
    "        \n",
    "# Review missing data and remove if necessary \n",
    "# Function to calculate missing values by column\n",
    "def missing_values_table(df):\n",
    "        # Total missing values\n",
    "        mis_val = df.isnull().sum()\n",
    "        \n",
    "        # Percentage of missing values\n",
    "        mis_val_percent = 100 * df.isnull().sum() / len(df)\n",
    "        \n",
    "        # Make a table with the results\n",
    "        mis_val_table = pd.concat([mis_val, mis_val_percent], axis=1)\n",
    "        \n",
    "        # Rename the columns\n",
    "        mis_val_table_ren_columns = mis_val_table.rename(\n",
    "        columns = {0 : 'Missing Values', 1 : '% of Total Values'})\n",
    "        \n",
    "        # Sort the table by percentage of missing descending\n",
    "        mis_val_table_ren_columns = mis_val_table_ren_columns[\n",
    "            mis_val_table_ren_columns.iloc[:,1] != 0].sort_values(\n",
    "        '% of Total Values', ascending=False).round(1)\n",
    "        \n",
    "        # Print some summary information\n",
    "        print (\"Your selected dataframe has \" + str(df.shape[1]) + \" columns.\\n\"      \n",
    "            \"There are \" + str(mis_val_table_ren_columns.shape[0]) +\n",
    "              \" columns that have missing values.\")\n",
    "        \n",
    "        # Return the dataframe with missing information\n",
    "        return mis_val_table_ren_columns\n",
    "missing_values_table(data)\n",
    "\n",
    "# Get the columns with > 50% missing\n",
    "missing_df = missing_values_table(data);\n",
    "missing_columns = list(missing_df[missing_df['% of Total Values'] > 50].index)\n",
    "print('We will remove %d columns.' % len(missing_columns))\n",
    "\n",
    "df = df.drop(columns = list(missing_columns))\n",
    "\n",
    "# Fill Rows with data from Above Row\n",
    "df = df.fillna(method='ffill', axis=0)\n",
    "\n",
    "# Fill Columns with data from Sequential Column\n",
    "df = df.fillna(method='ffill', axis=1)"
   ]
  },
  {
   "cell_type": "code",
   "execution_count": 2,
   "metadata": {},
   "outputs": [
    {
     "name": "stdout",
     "output_type": "stream",
     "text": [
      "Please provide a number: 4\n",
      "Please provide a second number: 5\n",
      "The sum of your numbers is 9.\n"
     ]
    }
   ],
   "source": [
    "driver.find_element_by_xpath(\"//elementType[@firstAttributeTypte = 'firstAttributeValue']\n",
    "                             [@secondAttributeType='secondAttributeValue']\n",
    "                             [@thirdAttributeType='thirdAttributeValue']...\")\n",
    "                             \n",
    "                             find_elements_by_xpath(\"//span[@data-label = 'pc-price']\")"
   ]
  },
  {
   "cell_type": "code",
   "execution_count": null,
   "metadata": {},
   "outputs": [],
   "source": [
    "next_button_xpath = \"//*[contains(text(), 'Next')]\"\n",
    "    while True:\n",
    "        if len(driver.find_elements_by_xpath(next_button_xpath)) < 1:\n",
    "            df = pd.DataFrame(data_by_row, columns= headers)\n",
    "            break\n",
    "\n",
    "        driver.find_element_by_xpath(next_button_xpath).click() "
   ]
  }
 ],
 "metadata": {
  "kernelspec": {
   "display_name": "Python 3",
   "language": "python",
   "name": "python3"
  },
  "language_info": {
   "codemirror_mode": {
    "name": "ipython",
    "version": 3
   },
   "file_extension": ".py",
   "mimetype": "text/x-python",
   "name": "python",
   "nbconvert_exporter": "python",
   "pygments_lexer": "ipython3",
   "version": "3.7.6"
  }
 },
 "nbformat": 4,
 "nbformat_minor": 4
}
